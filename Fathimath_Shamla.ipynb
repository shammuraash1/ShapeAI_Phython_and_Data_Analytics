{
  "nbformat": 4,
  "nbformat_minor": 0,
  "metadata": {
    "colab": {
      "name": "Fathimath_Shamla.ipynb",
      "provenance": [],
      "collapsed_sections": []
    },
    "kernelspec": {
      "name": "python3",
      "display_name": "Python 3"
    },
    "language_info": {
      "name": "python"
    }
  },
  "cells": [
    {
      "cell_type": "code",
      "metadata": {
        "id": "lfwtlDhOTbON",
        "colab": {
          "base_uri": "https://localhost:8080/"
        },
        "outputId": "8e931a8a-1983-4510-9563-9ca29f04653c"
      },
      "source": [
        "import pandas as pd\n",
        "import numpy as np\n",
        "df = pd.DataFrame(pd.read_csv('/content/train (1).csv'))\n",
        "df.head()\n",
        "\n",
        "df.shape\n",
        "df.isnull().sum()\n",
        "x=df.isnull().sum()\n",
        "drop_col=df.isnull().sum()[df.isnull().sum()>(35/100*df.shape[0])]\n",
        "drop_col\n",
        "drop_col.index\n",
        "df.drop(drop_col.index,axis=1,inplace=True)\n",
        "df.isnull().sum()\n",
        "df.fillna(df.mean(),inplace=True)\n",
        "df.isnull().sum()\n",
        "df['Embarked'].describe()\n",
        "df['Embarked'].fillna('s',inplace=True)\n",
        "df.isnull().sum()\n",
        "df.corr()\n",
        "df['FamilySize'] = df['SibSp']+df['Parch']\n",
        "df.drop(['SibSp', 'Parch'], axis=1, inplace=True)\n",
        "df.corr()\n",
        "df['Alone'] = [0 if df['FamilySize'][i]>0 else 1 for i in df.index]\n",
        "df.head()\n",
        "df.groupby(['Alone'])['Survived'].mean()\n",
        "df[['Alone','Fare']].corr()\n",
        "df['Sex']=[0 if df['Sex'][i]=='Male' else 1 for i in df.index]\n",
        "df.groupby(['Sex'])['Survived'].mean()\n",
        "df.groupby(['Embarked'])['Survived'].mean()\n",
        "\n",
        "\n",
        "\n",
        "\n",
        "\n"
      ],
      "execution_count": 59,
      "outputs": [
        {
          "output_type": "execute_result",
          "data": {
            "text/plain": [
              "Embarked\n",
              "C    0.553571\n",
              "Q    0.389610\n",
              "S    0.336957\n",
              "s    1.000000\n",
              "Name: Survived, dtype: float64"
            ]
          },
          "metadata": {
            "tags": []
          },
          "execution_count": 59
        }
      ]
    },
    {
      "cell_type": "code",
      "metadata": {
        "id": "JZXune1d52JY"
      },
      "source": [
        "()"
      ],
      "execution_count": null,
      "outputs": []
    }
  ]
}